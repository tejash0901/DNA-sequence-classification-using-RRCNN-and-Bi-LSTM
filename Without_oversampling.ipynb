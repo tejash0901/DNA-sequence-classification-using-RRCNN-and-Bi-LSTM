{
  "cells": [
    {
      "cell_type": "markdown",
      "metadata": {
        "id": "view-in-github",
        "colab_type": "text"
      },
      "source": [
        "<a href=\"https://colab.research.google.com/github/tejash0901/DNA-sequence-classification-using-RRCNN-and-Bi-LSTM/blob/main/Without_oversampling.ipynb\" target=\"_parent\"><img src=\"https://colab.research.google.com/assets/colab-badge.svg\" alt=\"Open In Colab\"/></a>"
      ]
    },
    {
      "cell_type": "code",
      "execution_count": null,
      "metadata": {
        "colab": {
          "base_uri": "https://localhost:8080/"
        },
        "id": "O1R7E5tkWzYV",
        "outputId": "ce273589-1bf0-4da2-dd12-98bfd2f9edf5"
      },
      "outputs": [
        {
          "output_type": "stream",
          "name": "stdout",
          "text": [
            "Collecting Bio\n",
            "  Downloading bio-1.6.2-py3-none-any.whl (278 kB)\n",
            "\u001b[2K     \u001b[90m━━━━━━━━━━━━━━━━━━━━━━━━━━━━━━━━━━━━━━━━\u001b[0m \u001b[32m278.6/278.6 kB\u001b[0m \u001b[31m5.9 MB/s\u001b[0m eta \u001b[36m0:00:00\u001b[0m\n",
            "\u001b[?25hCollecting biopython>=1.80 (from Bio)\n",
            "  Downloading biopython-1.83-cp310-cp310-manylinux_2_17_x86_64.manylinux2014_x86_64.whl (3.1 MB)\n",
            "\u001b[2K     \u001b[90m━━━━━━━━━━━━━━━━━━━━━━━━━━━━━━━━━━━━━━━━\u001b[0m \u001b[32m3.1/3.1 MB\u001b[0m \u001b[31m18.7 MB/s\u001b[0m eta \u001b[36m0:00:00\u001b[0m\n",
            "\u001b[?25hRequirement already satisfied: requests in /usr/local/lib/python3.10/dist-packages (from Bio) (2.31.0)\n",
            "Requirement already satisfied: tqdm in /usr/local/lib/python3.10/dist-packages (from Bio) (4.66.2)\n",
            "Collecting mygene (from Bio)\n",
            "  Downloading mygene-3.2.2-py2.py3-none-any.whl (5.4 kB)\n",
            "Requirement already satisfied: pandas in /usr/local/lib/python3.10/dist-packages (from Bio) (2.0.3)\n",
            "Requirement already satisfied: pooch in /usr/local/lib/python3.10/dist-packages (from Bio) (1.8.1)\n",
            "Collecting gprofiler-official (from Bio)\n",
            "  Downloading gprofiler_official-1.0.0-py3-none-any.whl (9.3 kB)\n",
            "Requirement already satisfied: numpy in /usr/local/lib/python3.10/dist-packages (from biopython>=1.80->Bio) (1.25.2)\n",
            "Collecting biothings-client>=0.2.6 (from mygene->Bio)\n",
            "  Downloading biothings_client-0.3.1-py2.py3-none-any.whl (29 kB)\n",
            "Requirement already satisfied: python-dateutil>=2.8.2 in /usr/local/lib/python3.10/dist-packages (from pandas->Bio) (2.8.2)\n",
            "Requirement already satisfied: pytz>=2020.1 in /usr/local/lib/python3.10/dist-packages (from pandas->Bio) (2023.4)\n",
            "Requirement already satisfied: tzdata>=2022.1 in /usr/local/lib/python3.10/dist-packages (from pandas->Bio) (2024.1)\n",
            "Requirement already satisfied: platformdirs>=2.5.0 in /usr/local/lib/python3.10/dist-packages (from pooch->Bio) (4.2.0)\n",
            "Requirement already satisfied: packaging>=20.0 in /usr/local/lib/python3.10/dist-packages (from pooch->Bio) (24.0)\n",
            "Requirement already satisfied: charset-normalizer<4,>=2 in /usr/local/lib/python3.10/dist-packages (from requests->Bio) (3.3.2)\n",
            "Requirement already satisfied: idna<4,>=2.5 in /usr/local/lib/python3.10/dist-packages (from requests->Bio) (3.6)\n",
            "Requirement already satisfied: urllib3<3,>=1.21.1 in /usr/local/lib/python3.10/dist-packages (from requests->Bio) (2.0.7)\n",
            "Requirement already satisfied: certifi>=2017.4.17 in /usr/local/lib/python3.10/dist-packages (from requests->Bio) (2024.2.2)\n",
            "Requirement already satisfied: six>=1.5 in /usr/local/lib/python3.10/dist-packages (from python-dateutil>=2.8.2->pandas->Bio) (1.16.0)\n",
            "Installing collected packages: biopython, gprofiler-official, biothings-client, mygene, Bio\n",
            "Successfully installed Bio-1.6.2 biopython-1.83 biothings-client-0.3.1 gprofiler-official-1.0.0 mygene-3.2.2\n"
          ]
        }
      ],
      "source": [
        "!pip install Bio"
      ]
    },
    {
      "cell_type": "code",
      "execution_count": null,
      "metadata": {
        "id": "vuWcwPyCW3Vp"
      },
      "outputs": [],
      "source": [
        "import numpy as np\n",
        "from Bio import SeqIO\n",
        "from sklearn.model_selection import train_test_split\n",
        "import tensorflow as tf\n",
        "from tensorflow import keras\n",
        "from tensorflow.keras import layers"
      ]
    },
    {
      "cell_type": "code",
      "execution_count": null,
      "metadata": {
        "id": "PLsTZZvKW-i7"
      },
      "outputs": [],
      "source": [
        "classesDict = {0: \"COVID\", 1: \"DENGUE\", 2: \"EBOLA\", 3: \"MERS\", 4: \"SARS\"}\n",
        "\n",
        "attributes_list = []\n",
        "classes_list = []\n",
        "attrsSize = 0"
      ]
    },
    {
      "cell_type": "code",
      "execution_count": null,
      "metadata": {
        "colab": {
          "base_uri": "https://localhost:8080/"
        },
        "id": "eHiHb7NzXd0b",
        "outputId": "7bfa1769-325b-4baf-a0e8-494a5125e070"
      },
      "outputs": [
        {
          "output_type": "stream",
          "name": "stdout",
          "text": [
            "class COVID size: 500\n",
            "class DENGUE size: 500\n",
            "class EBOLA size: 500\n",
            "class MERS size: 500\n",
            "class SARS size: 500\n",
            "total attributes size:  2500\n",
            "total classes size:  2500\n"
          ]
        }
      ],
      "source": [
        "for key in classesDict:\n",
        "    fasta_file = \"/content/drive/MyDrive/data/sequences\" + classesDict[key] + \".fasta\"\n",
        "    fasta_sequences = SeqIO.parse(open(fasta_file), 'fasta')\n",
        "    i=0\n",
        "    for fasta in fasta_sequences:\n",
        "      i+=1\n",
        "      attributes_list.append(str(fasta.seq))\n",
        "      classes_list.append(key)\n",
        "      if(i==500):\n",
        "        break\n",
        "\n",
        "    class_size = len(classes_list) - attrsSize\n",
        "    print(\"class\", classesDict[key], \"size:\", class_size)\n",
        "    attrsSize = len(attributes_list)\n",
        "\n",
        "attributes = np.array(attributes_list)\n",
        "classes = np.array(classes_list)\n",
        "\n",
        "print(\"total attributes size: \", attributes.shape[0])\n",
        "print(\"total classes size: \", classes.shape[0])"
      ]
    },
    {
      "cell_type": "code",
      "execution_count": null,
      "metadata": {
        "colab": {
          "base_uri": "https://localhost:8080/"
        },
        "id": "6WV1_2S1YJ_r",
        "outputId": "79a1450c-ef52-457b-c7f2-2bac7905a45b"
      },
      "outputs": [
        {
          "output_type": "stream",
          "name": "stdout",
          "text": [
            "x_train size:  1750\n",
            "y_train size:  1750\n",
            "x_test size:  750\n",
            "y_test size:  750\n"
          ]
        }
      ],
      "source": [
        "attributes = attributes.reshape(-1, 1)\n",
        "maxSequence = 6000\n",
        "X_resBinarized = np.zeros((len(attributes), maxSequence, 1), dtype=np.uint8)\n",
        "for i, sequence in enumerate(attributes):\n",
        "    sequenceStr = sequence[0]\n",
        "    sequenceBinarizedStr = \"\"\n",
        "    index = 0\n",
        "    for char in sequenceStr:\n",
        "        if index < maxSequence:\n",
        "            if char == 'a':\n",
        "                sequenceBinarizedStr += \"1\"\n",
        "            elif char == 'c':\n",
        "                sequenceBinarizedStr += \"2\"\n",
        "            elif char == 'g':\n",
        "                sequenceBinarizedStr += \"3\"\n",
        "            elif char == 't':\n",
        "                sequenceBinarizedStr += \"4\"\n",
        "            else:\n",
        "                sequenceBinarizedStr += \"0\"\n",
        "        index += 1\n",
        "\n",
        "    if len(sequenceStr) < maxSequence:\n",
        "        sequenceLength = len(sequenceStr)\n",
        "        while sequenceLength < maxSequence:\n",
        "            sequenceBinarizedStr += \"0\"\n",
        "            sequenceLength += 1\n",
        "\n",
        "    sequenceBinarized = np.array(list(sequenceBinarizedStr), dtype=np.uint8)\n",
        "    X_resBinarized[i] = sequenceBinarized.reshape(-1, 1)\n",
        "\n",
        "x_train, x_test, y_train, y_test = train_test_split(X_resBinarized, classes, test_size=0.3, random_state=4, stratify=classes)\n",
        "\n",
        "print(\"x_train size: \", x_train.shape[0])\n",
        "print(\"y_train size: \", y_train.shape[0])\n",
        "print(\"x_test size: \", x_test.shape[0])\n",
        "print(\"y_test size: \", y_test.shape[0])"
      ]
    },
    {
      "cell_type": "code",
      "execution_count": null,
      "metadata": {
        "id": "qfDkPVNkY5Dv"
      },
      "outputs": [],
      "source": [
        "batch_size = 32\n",
        "num_classes = 5\n",
        "epochs = 5\n",
        "\n",
        "vocab_size = 5\n",
        "embedding_dim = 8\n",
        "maxlen= x_train[0].size\n",
        "\n",
        "\n",
        "# Convert labels to categorical\n",
        "y_train = keras.utils.to_categorical(y_train, num_classes)\n",
        "y_test = keras.utils.to_categorical(y_test, num_classes)"
      ]
    },
    {
      "cell_type": "code",
      "execution_count": null,
      "metadata": {
        "id": "O1wGxh7xZVPy"
      },
      "outputs": [],
      "source": [
        "y_test1 = np.argmax(y_test, axis=1)\n",
        "y_train1 = np.argmax(y_train, axis=1)"
      ]
    },
    {
      "cell_type": "code",
      "execution_count": null,
      "metadata": {
        "colab": {
          "base_uri": "https://localhost:8080/"
        },
        "id": "mo1nP4NiZX0s",
        "outputId": "00ea783b-ad08-4e03-90ae-7acd544fc27e"
      },
      "outputs": [
        {
          "output_type": "stream",
          "name": "stdout",
          "text": [
            "Model: \"model\"\n",
            "__________________________________________________________________________________________________\n",
            " Layer (type)                Output Shape                 Param #   Connected to                  \n",
            "==================================================================================================\n",
            " input_1 (InputLayer)        [(None, 6000)]               0         []                            \n",
            "                                                                                                  \n",
            " embedding (Embedding)       (None, 6000, 8)              40        ['input_1[0][0]']             \n",
            "                                                                                                  \n",
            " conv1d (Conv1D)             (None, 6000, 128)            2176      ['embedding[0][0]']           \n",
            "                                                                                                  \n",
            " conv1d_1 (Conv1D)           (None, 6000, 128)            32896     ['conv1d[0][0]']              \n",
            "                                                                                                  \n",
            " add (Add)                   (None, 6000, 128)            0         ['conv1d[0][0]',              \n",
            "                                                                     'conv1d_1[0][0]']            \n",
            "                                                                                                  \n",
            " max_pooling1d (MaxPooling1  (None, 3000, 128)            0         ['add[0][0]']                 \n",
            " D)                                                                                               \n",
            "                                                                                                  \n",
            " conv1d_2 (Conv1D)           (None, 3000, 64)             16448     ['max_pooling1d[0][0]']       \n",
            "                                                                                                  \n",
            " conv1d_3 (Conv1D)           (None, 3000, 64)             8256      ['conv1d_2[0][0]']            \n",
            "                                                                                                  \n",
            " add_1 (Add)                 (None, 3000, 64)             0         ['conv1d_2[0][0]',            \n",
            "                                                                     'conv1d_3[0][0]']            \n",
            "                                                                                                  \n",
            " max_pooling1d_1 (MaxPoolin  (None, 1500, 64)             0         ['add_1[0][0]']               \n",
            " g1D)                                                                                             \n",
            "                                                                                                  \n",
            " reshape (Reshape)           (None, 3000, 64)             0         ['add_1[0][0]']               \n",
            "                                                                                                  \n",
            " flatten (Flatten)           (None, 96000)                0         ['max_pooling1d_1[0][0]']     \n",
            "                                                                                                  \n",
            " bidirectional (Bidirection  (None, 128)                  66048     ['reshape[0][0]']             \n",
            " al)                                                                                              \n",
            "                                                                                                  \n",
            " concatenate (Concatenate)   (None, 96128)                0         ['flatten[0][0]',             \n",
            "                                                                     'bidirectional[0][0]']       \n",
            "                                                                                                  \n",
            " dense (Dense)               (None, 128)                  1230451   ['concatenate[0][0]']         \n",
            "                                                          2                                       \n",
            "                                                                                                  \n",
            " dense_1 (Dense)             (None, 64)                   8256      ['dense[0][0]']               \n",
            "                                                                                                  \n",
            " dense_2 (Dense)             (None, 5)                    325       ['dense_1[0][0]']             \n",
            "                                                                                                  \n",
            "==================================================================================================\n",
            "Total params: 12438957 (47.45 MB)\n",
            "Trainable params: 12438957 (47.45 MB)\n",
            "Non-trainable params: 0 (0.00 Byte)\n",
            "__________________________________________________________________________________________________\n"
          ]
        }
      ],
      "source": [
        "from keras.models import Model\n",
        "from keras.layers import Input, Embedding, Conv1D, MaxPooling1D, Flatten, Dense, Bidirectional, LSTM, Concatenate, Reshape, Add\n",
        "\n",
        "# Define input layer\n",
        "inputs = Input(shape=(maxlen,))\n",
        "\n",
        "# Embedding layer\n",
        "embedding_layer = Embedding(input_dim=vocab_size, output_dim=embedding_dim, input_length=maxlen)(inputs)\n",
        "\n",
        "# Recurrent Residual Convolutional Network (RRCN)\n",
        "conv1 = Conv1D(128, 2, activation='relu', padding='same')(embedding_layer)\n",
        "conv1_res = Conv1D(128, 2, activation='relu', padding='same')(conv1)\n",
        "conv1_res = Add()([conv1, conv1_res])  # Residual connection\n",
        "pool1 = MaxPooling1D(pool_size=2)(conv1_res)\n",
        "\n",
        "conv2 = Conv1D(64, 2, activation='relu', padding='same')(pool1)\n",
        "conv2_res = Conv1D(64, 2, activation='relu', padding='same')(conv2)\n",
        "conv2_res = Add()([conv2, conv2_res])  # Residual connection\n",
        "pool2 = MaxPooling1D(pool_size=2)(conv2_res)\n",
        "\n",
        "flatten = Flatten()(pool2)\n",
        "\n",
        "# Bidirectional LSTM layer\n",
        "lstm_input = Reshape((-1, 64))(conv2_res)  # Reshape for LSTM input\n",
        "bidirectional_lstm = Bidirectional(LSTM(64, activation='relu', return_sequences=False))(lstm_input)\n",
        "\n",
        "# Concatenate the output of RRCN and Bidirectional LSTM\n",
        "concatenated = Concatenate()([flatten, bidirectional_lstm])\n",
        "\n",
        "# Dense layers\n",
        "dense1 = Dense(128, activation='relu')(concatenated)\n",
        "dense2 = Dense(64, activation='relu')(dense1)\n",
        "output_layer = Dense(num_classes, activation='softmax')(dense2)\n",
        "\n",
        "# Create the model\n",
        "hybrid_model = Model(inputs=inputs, outputs=output_layer)\n",
        "\n",
        "hybrid_model.summary()"
      ]
    },
    {
      "cell_type": "code",
      "execution_count": null,
      "metadata": {
        "id": "sdIRwf-pZieg"
      },
      "outputs": [],
      "source": [
        "hybrid_model.compile(loss='categorical_crossentropy', optimizer='adam', metrics=['accuracy'])"
      ]
    },
    {
      "cell_type": "code",
      "execution_count": null,
      "metadata": {
        "colab": {
          "base_uri": "https://localhost:8080/"
        },
        "id": "aft3m8VCZoNt",
        "outputId": "beacb07c-e824-4330-bfd9-0cc0435e9ef5"
      },
      "outputs": [
        {
          "output_type": "stream",
          "name": "stdout",
          "text": [
            "Epoch 1/5\n",
            "55/55 [==============================] - 438s 8s/step - loss: 0.6877 - accuracy: 0.7371 - val_loss: 0.3027 - val_accuracy: 0.8773\n",
            "Epoch 2/5\n",
            "55/55 [==============================] - 442s 8s/step - loss: 0.2642 - accuracy: 0.9057 - val_loss: 0.2273 - val_accuracy: 0.9120\n",
            "Epoch 3/5\n",
            "55/55 [==============================] - 438s 8s/step - loss: 0.1319 - accuracy: 0.9497 - val_loss: 0.2065 - val_accuracy: 0.9360\n",
            "Epoch 4/5\n",
            "55/55 [==============================] - 440s 8s/step - loss: 0.0865 - accuracy: 0.9674 - val_loss: 0.1902 - val_accuracy: 0.9507\n",
            "Epoch 5/5\n",
            "55/55 [==============================] - 442s 8s/step - loss: 0.0970 - accuracy: 0.9777 - val_loss: 0.1378 - val_accuracy: 0.9613\n"
          ]
        },
        {
          "output_type": "execute_result",
          "data": {
            "text/plain": [
              "<keras.src.callbacks.History at 0x7c5bc7f1fdc0>"
            ]
          },
          "metadata": {},
          "execution_count": 10
        }
      ],
      "source": [
        "history=hybrid_model.fit(x_train, y_train, batch_size=batch_size, epochs=epochs, validation_data=(x_test, y_test))"
      ]
    },
    {
      "cell_type": "markdown",
      "source": [],
      "metadata": {
        "id": "WY8NwtCGkEdf"
      }
    },
    {
      "cell_type": "code",
      "execution_count": null,
      "metadata": {
        "id": "vm0qZu48ZqlC"
      },
      "outputs": [],
      "source": [
        "score = hybrid_model.evaluate(x_test, y_test, verbose=0)\n",
        "print('Test loss:', score[0])\n",
        "print('Test accuracy:', score[1])\n"
      ]
    },
    {
      "cell_type": "code",
      "execution_count": null,
      "metadata": {
        "colab": {
          "base_uri": "https://localhost:8080/"
        },
        "id": "ttiGX8EtirQ8",
        "outputId": "03b2dfe1-2630-4ce8-bc48-b68bfa610110"
      },
      "outputs": [
        {
          "name": "stdout",
          "output_type": "stream",
          "text": [
            "24/24 [==============================] - 28s 1s/step\n",
            "Prediction:  [[6.7699333e-03 7.7929404e-03 4.3099189e-01 1.0833964e-02 5.4361123e-01]\n",
            " [9.8313450e-30 0.0000000e+00 9.9999994e-01 1.5082007e-26 2.0316225e-24]\n",
            " [1.0133989e-29 0.0000000e+00 9.9999994e-01 1.5290206e-26 1.9805895e-24]\n",
            " ...\n",
            " [7.0257440e-15 5.0069087e-19 1.7521883e-11 1.0000000e+00 2.9312837e-13]\n",
            " [7.0256902e-15 5.0068705e-19 1.7521750e-11 1.0000000e+00 2.9312669e-13]\n",
            " [3.7812734e-19 6.3055199e-14 9.6839845e-15 5.0477411e-14 1.0000000e+00]]\n"
          ]
        }
      ],
      "source": [
        "y_predicted = hybrid_model.predict(x_test)\n",
        "print(\"Prediction: \", y_predicted)"
      ]
    },
    {
      "cell_type": "code",
      "execution_count": null,
      "metadata": {
        "id": "8IUHU86Ew5zq"
      },
      "outputs": [],
      "source": [
        "y_pred_labels = np.argmax(y_predicted, axis=1)"
      ]
    },
    {
      "cell_type": "code",
      "execution_count": null,
      "metadata": {
        "colab": {
          "base_uri": "https://localhost:8080/",
          "height": 812
        },
        "id": "Yu3QgTGMxTif",
        "outputId": "f4719b47-11e1-41b0-eaa6-1c975982cb4b"
      },
      "outputs": [
        {
          "name": "stdout",
          "output_type": "stream",
          "text": [
            "Confusion matrix\n",
            "[[149   0   0   0   1]\n",
            " [  0 145   0   2   3]\n",
            " [  0   0 137   2  11]\n",
            " [  0   0   2 142   6]\n",
            " [  0   1   0  13 136]]\n",
            "\n",
            "Classification report\n",
            "              precision    recall  f1-score   support\n",
            "\n",
            "       covid       1.00      0.99      1.00       150\n",
            "      dengue       0.99      0.97      0.98       150\n",
            "       ebola       0.99      0.91      0.95       150\n",
            "        Mers       0.89      0.95      0.92       150\n",
            "        Sars       0.87      0.91      0.89       150\n",
            "\n",
            "    accuracy                           0.95       750\n",
            "   macro avg       0.95      0.95      0.95       750\n",
            "weighted avg       0.95      0.95      0.95       750\n",
            "\n"
          ]
        },
        {
          "data": {
            "image/png": "[encoded data removed]",
            "text/plain": [
              "<Figure size 640x480 with 2 Axes>"
            ]
          },
          "metadata": {},
          "output_type": "display_data"
        }
      ],
      "source": [
        "from sklearn import metrics\n",
        "\n",
        "print(\"Confusion matrix\")\n",
        "confusion_matrix = metrics.confusion_matrix(y_true=y_test1, y_pred=y_pred_labels)\n",
        "print(confusion_matrix)\n",
        "target_names = ['covid','dengue','ebola','Mers', 'Sars']\n",
        "disp = metrics.ConfusionMatrixDisplay(confusion_matrix=confusion_matrix, display_labels=target_names)\n",
        "disp.plot()\n",
        "\n",
        "print()\n",
        "print(\"Classification report\")\n",
        "report = metrics.classification_report(y_test1, y_pred_labels, target_names=target_names)\n",
        "print(report)"
      ]
    },
    {
      "cell_type": "code",
      "execution_count": null,
      "metadata": {
        "id": "AiCudCYrxVKD"
      },
      "outputs": [],
      "source": []
    }
  ],
  "metadata": {
    "colab": {
      "provenance": [],
      "mount_file_id": "1HIJt_HDitsQ6b29YfR3sNEik-H1DASk4",
      "authorship_tag": "ABX9TyN5O4+aXP2LqkIknOwEjACW",
      "include_colab_link": true
    },
    "kernelspec": {
      "display_name": "Python 3",
      "name": "python3"
    },
    "language_info": {
      "name": "python"
    }
  },
  "nbformat": 4,
  "nbformat_minor": 0
}